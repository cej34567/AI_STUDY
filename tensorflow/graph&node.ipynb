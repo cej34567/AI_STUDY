{
  "nbformat": 4,
  "nbformat_minor": 0,
  "metadata": {
    "colab": {
      "name": "-tensorflow.ipynb",
      "provenance": [],
      "collapsed_sections": [],
      "authorship_tag": "ABX9TyO0cuOPza7MkTBJpcCoaFnx",
      "include_colab_link": true
    },
    "kernelspec": {
      "name": "python3",
      "display_name": "Python 3"
    }
  },
  "cells": [
    {
      "cell_type": "markdown",
      "metadata": {
        "id": "view-in-github",
        "colab_type": "text"
      },
      "source": [
        "<a href=\"https://colab.research.google.com/github/cej34567/AI_STUDY/blob/main/tensorflow/graph%26node.ipynb\" target=\"_parent\"><img src=\"https://colab.research.google.com/assets/colab-badge.svg\" alt=\"Open In Colab\"/></a>"
      ]
    },
    {
      "cell_type": "markdown",
      "metadata": {
        "id": "YKmSfXIHCpdS"
      },
      "source": [
        "tensorflow를 import 해주면 내부적으로 default_graph_stack에 Default Graph가 생긴다. tf.get_default_graph()명령어로 접근 가능\n",
        "\n",
        "이 graph에 저장된 operation을 확인해 보면 [] 비어있는것을 알 수 있다.\n",
        "\n",
        "이러한 의미는 operation이 리스트 형태로 들어가 있다."
      ]
    },
    {
      "cell_type": "code",
      "metadata": {
        "colab": {
          "base_uri": "https://localhost:8080/"
        },
        "id": "nH_nEAQrCkPW",
        "outputId": "c2afd642-9598-4d77-d90a-83328be03bf9"
      },
      "source": [
        "import tensorflow.compat.v1 as tf\n",
        "tf.disable_v2_behavior()\n",
        "\n",
        "graph=tf.get_default_graph()\n",
        "graph.get_operations()\n",
        "input=tf.constant(1.0)\n",
        "operations=graph.get_operations()\n",
        "print(operations)\n",
        "\n",
        "#operation을 감싸고 있는 node 출력\n",
        "print(operations[0].node_def)"
      ],
      "execution_count": null,
      "outputs": [
        {
          "output_type": "stream",
          "text": [
            "WARNING:tensorflow:From /usr/local/lib/python3.6/dist-packages/tensorflow/python/compat/v2_compat.py:96: disable_resource_variables (from tensorflow.python.ops.variable_scope) is deprecated and will be removed in a future version.\n",
            "Instructions for updating:\n",
            "non-resource variables are not supported in the long term\n",
            "[<tf.Operation 'Const' type=Const>]\n",
            "name: \"Const\"\n",
            "op: \"Const\"\n",
            "attr {\n",
            "  key: \"dtype\"\n",
            "  value {\n",
            "    type: DT_FLOAT\n",
            "  }\n",
            "}\n",
            "attr {\n",
            "  key: \"value\"\n",
            "  value {\n",
            "    tensor {\n",
            "      dtype: DT_FLOAT\n",
            "      tensor_shape {\n",
            "      }\n",
            "      float_val: 1.0\n",
            "    }\n",
            "  }\n",
            "}\n",
            "\n"
          ],
          "name": "stdout"
        }
      ]
    },
    {
      "cell_type": "code",
      "metadata": {
        "id": "f0aLGo-BsxHE",
        "colab": {
          "base_uri": "https://localhost:8080/"
        },
        "outputId": "28a632f6-af72-4773-88ff-563a90f3b50f"
      },
      "source": [
        "import tensorflow.compat.v1 as tf\n",
        "tf.disable_v2_behavior()\n",
        "\n",
        "tf.get_default_graph().get_operations()"
      ],
      "execution_count": null,
      "outputs": [
        {
          "output_type": "execute_result",
          "data": {
            "text/plain": [
              "[]"
            ]
          },
          "metadata": {
            "tags": []
          },
          "execution_count": 2
        }
      ]
    },
    {
      "cell_type": "code",
      "metadata": {
        "id": "_0cN1-8otIN1",
        "colab": {
          "base_uri": "https://localhost:8080/"
        },
        "outputId": "11fb290f-f196-4017-809d-6de05bc174d5"
      },
      "source": [
        "a=tf.constant(7.0, name='data1') #에지=노드\n",
        "b=tf.constant(3.0, name='data2')\n",
        "c=tf.constant(2.0, name='data3')\n",
        "\n",
        "tf.get_default_graph().get_operations()"
      ],
      "execution_count": null,
      "outputs": [
        {
          "output_type": "execute_result",
          "data": {
            "text/plain": [
              "[<tf.Operation 'data1' type=Const>,\n",
              " <tf.Operation 'data2' type=Const>,\n",
              " <tf.Operation 'data3' type=Const>]"
            ]
          },
          "metadata": {
            "tags": []
          },
          "execution_count": 4
        }
      ]
    },
    {
      "cell_type": "code",
      "metadata": {
        "id": "LFW7idhvuGgt",
        "colab": {
          "base_uri": "https://localhost:8080/"
        },
        "outputId": "b83947ed-6eea-4098-b4fe-fdd568317b93"
      },
      "source": [
        "print(a) #텐서 a의 값이 결정되지 않은 상태\n",
        "print(a.op) #a에 연결된 operation 확인"
      ],
      "execution_count": null,
      "outputs": [
        {
          "output_type": "stream",
          "text": [
            "Tensor(\"data1:0\", shape=(), dtype=float32)\n",
            "name: \"data1\"\n",
            "op: \"Const\"\n",
            "attr {\n",
            "  key: \"dtype\"\n",
            "  value {\n",
            "    type: DT_FLOAT\n",
            "  }\n",
            "}\n",
            "attr {\n",
            "  key: \"value\"\n",
            "  value {\n",
            "    tensor {\n",
            "      dtype: DT_FLOAT\n",
            "      tensor_shape {\n",
            "      }\n",
            "      float_val: 7.0\n",
            "    }\n",
            "  }\n",
            "}\n",
            "\n"
          ],
          "name": "stdout"
        }
      ]
    },
    {
      "cell_type": "code",
      "metadata": {
        "id": "PWaJPtSuvUSy",
        "colab": {
          "base_uri": "https://localhost:8080/"
        },
        "outputId": "1a0b53d2-8b04-45a0-a813-d1480f778647"
      },
      "source": [
        "print(a.op.outputs) #a의 입력 값 확인\n",
        "print(a is a.op.outputs[0]) #텐서 a와 a의 operation의 출력인 같은지 확인\n",
        "print(a.op.node_def.attr['value'].tensor.float_val[0]) \n",
        "#a의 operation protocol 버퍼에서 출력값을 확인해 볼 수 있음"
      ],
      "execution_count": null,
      "outputs": [
        {
          "output_type": "stream",
          "text": [
            "[<tf.Tensor 'data1:0' shape=() dtype=float32>]\n",
            "True\n",
            "7.0\n"
          ],
          "name": "stdout"
        }
      ]
    },
    {
      "cell_type": "code",
      "metadata": {
        "id": "yb4WYqeGz4VE",
        "colab": {
          "base_uri": "https://localhost:8080/"
        },
        "outputId": "fa671f1a-6c4d-4491-85b7-43c29f6cff38"
      },
      "source": [
        "v=a*b/c\n",
        "tf.get_default_graph().get_operations()"
      ],
      "execution_count": null,
      "outputs": [
        {
          "output_type": "execute_result",
          "data": {
            "text/plain": [
              "[<tf.Operation 'data1' type=Const>,\n",
              " <tf.Operation 'data2' type=Const>,\n",
              " <tf.Operation 'data3' type=Const>,\n",
              " <tf.Operation 'mul' type=Mul>,\n",
              " <tf.Operation 'truediv' type=RealDiv>,\n",
              " <tf.Operation 'mul_1' type=Mul>,\n",
              " <tf.Operation 'truediv_1' type=RealDiv>,\n",
              " <tf.Operation 'mul_2' type=Mul>,\n",
              " <tf.Operation 'truediv_2' type=RealDiv>]"
            ]
          },
          "metadata": {
            "tags": []
          },
          "execution_count": 12
        }
      ]
    },
    {
      "cell_type": "code",
      "metadata": {
        "id": "SA3-fA3F0z14",
        "colab": {
          "base_uri": "https://localhost:8080/"
        },
        "outputId": "f19ccc24-692b-4e8c-93ad-10e987e210b3"
      },
      "source": [
        "v=a*b/c\n",
        "\n",
        "print('v.op.inputs=', v.op.inputs)\n",
        "tf.get_default_graph().get_operations()"
      ],
      "execution_count": null,
      "outputs": [
        {
          "output_type": "stream",
          "text": [
            "v.op.inputs= (<tf.Tensor 'mul_3:0' shape=() dtype=float32>, <tf.Tensor 'data3:0' shape=() dtype=float32>)\n"
          ],
          "name": "stdout"
        },
        {
          "output_type": "execute_result",
          "data": {
            "text/plain": [
              "[<tf.Operation 'data1' type=Const>,\n",
              " <tf.Operation 'data2' type=Const>,\n",
              " <tf.Operation 'data3' type=Const>,\n",
              " <tf.Operation 'mul' type=Mul>,\n",
              " <tf.Operation 'truediv' type=RealDiv>,\n",
              " <tf.Operation 'mul_1' type=Mul>,\n",
              " <tf.Operation 'truediv_1' type=RealDiv>,\n",
              " <tf.Operation 'mul_2' type=Mul>,\n",
              " <tf.Operation 'truediv_2' type=RealDiv>,\n",
              " <tf.Operation 'mul_3' type=Mul>,\n",
              " <tf.Operation 'truediv_3' type=RealDiv>]"
            ]
          },
          "metadata": {
            "tags": []
          },
          "execution_count": 13
        }
      ]
    },
    {
      "cell_type": "code",
      "metadata": {
        "id": "faSmyF-g10_r",
        "colab": {
          "base_uri": "https://localhost:8080/"
        },
        "outputId": "fc746b95-20b3-40a9-bc54-a90436873622"
      },
      "source": [
        "print('v.op.outputs=', v.op.outputs)"
      ],
      "execution_count": null,
      "outputs": [
        {
          "output_type": "stream",
          "text": [
            "v.op.outputs= [<tf.Tensor 'truediv_3:0' shape=() dtype=float32>]\n"
          ],
          "name": "stdout"
        }
      ]
    },
    {
      "cell_type": "code",
      "metadata": {
        "id": "tg918_Ee3QD_",
        "colab": {
          "base_uri": "https://localhost:8080/"
        },
        "outputId": "6f88f0bb-5daa-41f9-a934-3fbfdb5a15cb"
      },
      "source": [
        "print(v.op.outputs[0] is v)"
      ],
      "execution_count": null,
      "outputs": [
        {
          "output_type": "stream",
          "text": [
            "True\n"
          ],
          "name": "stdout"
        }
      ]
    },
    {
      "cell_type": "code",
      "metadata": {
        "id": "66dw87ax3Vkb",
        "colab": {
          "base_uri": "https://localhost:8080/"
        },
        "outputId": "bcd036de-b5fe-4946-a0c5-fca10a78338b"
      },
      "source": [
        "print(v.op)"
      ],
      "execution_count": null,
      "outputs": [
        {
          "output_type": "stream",
          "text": [
            "name: \"truediv_3\"\n",
            "op: \"RealDiv\"\n",
            "input: \"mul_3\"\n",
            "input: \"data3\"\n",
            "attr {\n",
            "  key: \"T\"\n",
            "  value {\n",
            "    type: DT_FLOAT\n",
            "  }\n",
            "}\n",
            "\n"
          ],
          "name": "stdout"
        }
      ]
    },
    {
      "cell_type": "code",
      "metadata": {
        "id": "I-u3ypve3iwo",
        "colab": {
          "base_uri": "https://localhost:8080/"
        },
        "outputId": "ef5f810b-c67e-4c74-c571-f43151f8c45c"
      },
      "source": [
        "print(v.op.inputs[0])\n",
        "print(v.op.inputs[1]) \n",
        "#텐서 v의 operation의 node input을 확인"
      ],
      "execution_count": null,
      "outputs": [
        {
          "output_type": "stream",
          "text": [
            "Tensor(\"mul_3:0\", shape=(), dtype=float32)\n",
            "Tensor(\"data3:0\", shape=(), dtype=float32)\n"
          ],
          "name": "stdout"
        }
      ]
    },
    {
      "cell_type": "code",
      "metadata": {
        "id": "bf4eBdJd32kl",
        "colab": {
          "base_uri": "https://localhost:8080/"
        },
        "outputId": "23c409ac-7f40-4962-d01f-fd37b26621c0"
      },
      "source": [
        "with tf.Session() as sess:\n",
        "  sess.run(tf.global_variables_initializer())\n",
        "  print(sess.run(v))"
      ],
      "execution_count": null,
      "outputs": [
        {
          "output_type": "stream",
          "text": [
            "10.5\n"
          ],
          "name": "stdout"
        }
      ]
    },
    {
      "cell_type": "code",
      "metadata": {
        "id": "UBec8O4P4hml"
      },
      "source": [
        "a=tf.constant(5)\n",
        "b=tf.constant(2)\n",
        "c=tf.constant(3)\n",
        "d=tf.multiply(a,b)\n",
        "e=tf.add(c,d)\n",
        "f=tf.subtract(d,e)"
      ],
      "execution_count": null,
      "outputs": []
    },
    {
      "cell_type": "code",
      "metadata": {
        "id": "8Xl7_WSNBmJd",
        "colab": {
          "base_uri": "https://localhost:8080/"
        },
        "outputId": "7857f8a5-0c00-4de4-edda-afb3503e49da"
      },
      "source": [
        "print(a, b, c, d, e, f, sep='\\n')"
      ],
      "execution_count": null,
      "outputs": [
        {
          "output_type": "stream",
          "text": [
            "Tensor(\"Const_1:0\", shape=(), dtype=int32)\n",
            "Tensor(\"Const_2:0\", shape=(), dtype=int32)\n",
            "Tensor(\"Const_3:0\", shape=(), dtype=int32)\n",
            "Tensor(\"Mul_4:0\", shape=(), dtype=int32)\n",
            "Tensor(\"Add:0\", shape=(), dtype=int32)\n",
            "Tensor(\"Sub:0\", shape=(), dtype=int32)\n"
          ],
          "name": "stdout"
        }
      ]
    },
    {
      "cell_type": "code",
      "metadata": {
        "id": "v3aQfIuJBxPC",
        "colab": {
          "base_uri": "https://localhost:8080/"
        },
        "outputId": "4eef933b-0f76-465c-9c90-b39f579a4d34"
      },
      "source": [
        "hello=tf.constant('hello, tensorflow')\n",
        "sess=tf.Session()\n",
        "print(sess.run(hello))\n",
        "sess.close()"
      ],
      "execution_count": null,
      "outputs": [
        {
          "output_type": "stream",
          "text": [
            "b'hello, tensorflow'\n"
          ],
          "name": "stdout"
        }
      ]
    },
    {
      "cell_type": "code",
      "metadata": {
        "id": "0GHpmkIeD8KQ",
        "colab": {
          "base_uri": "https://localhost:8080/"
        },
        "outputId": "58457e57-8036-4a7e-f429-d787a7816221"
      },
      "source": [
        "node1=tf.constant(3.0, tf.float32)\n",
        "node2=tf.constant(4.0)\n",
        "node3=tf.add(node1,node2)\n",
        "print('node1:', node1, 'node2:', node2)\n",
        "print('node:',node3)\n",
        "\n",
        "sess=tf.Session()\n",
        "print([node1, node2])\n",
        "print('sess.run(node1, node2):',sess.run([node1, node2]))\n",
        "print('sess.run(node3):', sess.run(node3))\n",
        "\n",
        "sess.close()"
      ],
      "execution_count": null,
      "outputs": [
        {
          "output_type": "stream",
          "text": [
            "node1: Tensor(\"Const_9:0\", shape=(), dtype=float32) node2: Tensor(\"Const_10:0\", shape=(), dtype=float32)\n",
            "node: Tensor(\"Add_2:0\", shape=(), dtype=float32)\n",
            "[<tf.Tensor 'Const_9:0' shape=() dtype=float32>, <tf.Tensor 'Const_10:0' shape=() dtype=float32>]\n",
            "sess.run(node1, node2): [3.0, 4.0]\n",
            "sess.run(node3): 7.0\n"
          ],
          "name": "stdout"
        }
      ]
    },
    {
      "cell_type": "code",
      "metadata": {
        "id": "HmBhbrOcGg6d",
        "colab": {
          "base_uri": "https://localhost:8080/"
        },
        "outputId": "f64e3409-a55d-44d8-8727-53816de76779"
      },
      "source": [
        "x=tf.constant([[1.0, 2.0, 3.0]])\n",
        "w=tf.constant([[2.0], [2.0], [2.0]])\n",
        "y=tf.matmul(x,w)\n",
        "print(x.get_shape())\n",
        "print(w.get_shape())\n",
        "print(y.get_shape())\n",
        "print(y)\n",
        "sess=tf.Session()\n",
        "init=tf.global_variables_initializer()\n",
        "sess.run(init)\n",
        "result=sess.run(y)\n",
        "sess.close()\n",
        "print(result)"
      ],
      "execution_count": null,
      "outputs": [
        {
          "output_type": "stream",
          "text": [
            "(1, 3)\n",
            "(3, 1)\n",
            "(1, 1)\n",
            "Tensor(\"MatMul:0\", shape=(1, 1), dtype=float32)\n",
            "[[12.]]\n"
          ],
          "name": "stdout"
        }
      ]
    },
    {
      "cell_type": "code",
      "metadata": {
        "id": "rRv1rD5aINF6",
        "colab": {
          "base_uri": "https://localhost:8080/"
        },
        "outputId": "14b49a0b-078d-4662-a272-39ec9d72832f"
      },
      "source": [
        "x=tf.Variable([[1,2,3]], dtype=tf.float32)\n",
        "w=tf.constant([[2.],[2.],[2.]], dtype=tf.float32)\n",
        "y=tf.matmul(x,w)\n",
        "\n",
        "sess=tf.Session()\n",
        "init=tf.global_variables_initializer()\n",
        "sess.run(init)\n",
        "result=sess.run(y)\n",
        "\n",
        "print(result)\n",
        "\n",
        "sess.close()"
      ],
      "execution_count": null,
      "outputs": [
        {
          "output_type": "stream",
          "text": [
            "[[12.]]\n"
          ],
          "name": "stdout"
        }
      ]
    },
    {
      "cell_type": "code",
      "metadata": {
        "id": "vp8g4PVnKFSP"
      },
      "source": [
        ""
      ],
      "execution_count": null,
      "outputs": []
    }
  ]
}