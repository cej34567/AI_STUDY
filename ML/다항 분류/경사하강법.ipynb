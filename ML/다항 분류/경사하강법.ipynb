{
  "nbformat": 4,
  "nbformat_minor": 0,
  "metadata": {
    "colab": {
      "name": "2020-11-17_경사하강법.ipynb",
      "provenance": [],
      "collapsed_sections": [],
      "authorship_tag": "ABX9TyOvw6KObfsATFkg0a1bZACt",
      "include_colab_link": true
    },
    "kernelspec": {
      "name": "python3",
      "display_name": "Python 3"
    }
  },
  "cells": [
    {
      "cell_type": "markdown",
      "metadata": {
        "id": "view-in-github",
        "colab_type": "text"
      },
      "source": [
        "<a href=\"https://colab.research.google.com/github/cej34567/AI_STUDY/blob/main/%EB%8B%A4%ED%95%AD%EB%B6%84%EB%A5%98/%EA%B2%BD%EC%82%AC%ED%95%98%EA%B0%95%EB%B2%95.ipynb\" target=\"_parent\"><img src=\"https://colab.research.google.com/assets/colab-badge.svg\" alt=\"Open In Colab\"/></a>"
      ]
    },
    {
      "cell_type": "code",
      "metadata": {
        "colab": {
          "base_uri": "https://localhost:8080/"
        },
        "id": "5hn0VQg9Gsvc",
        "outputId": "35ad4d8c-ce3f-4b91-b9fe-821fc3999d02"
      },
      "source": [
        "import tensorflow as tf\n",
        "\n",
        "data=[[2,81],[4,93],[6,91],[8,97]]\n",
        "x_train=[i[0] for i in data]\n",
        "y_train=[j[1] for j in data]\n",
        "w=tf.Variable(tf.random.uniform([1], 0, 10, dtype=tf.float64, seed=0))\n",
        "b=tf.Variable(tf.random.uniform([1], 0, 100, dtype=tf.float64, seed=0))\n",
        "\n",
        "def hypothesis(w, b):   #가설\n",
        "  return x_train*w+b\n",
        "\n",
        "def costFunc(): #minimize에서 사용 손실(비용) 함수\n",
        "  return tf.sqrt(tf.reduce_mean(tf.square(hypothesis(w,b)-y_train)))\n",
        "\n",
        "def cost(w, b): #손실을 계산하는 함수\n",
        "  return tf.sqrt(tf.reduce_mean(tf.square(hypothesis(w, b)-y_train)))\n",
        "\n",
        "opt=tf.keras.optimizers.SGD(learning_rate=0.1)\n",
        "\n",
        "for i in range(200):\n",
        "  opt.minimize(costFunc, var_list=[w,b])\n",
        "  if i%10==0:\n",
        "    print(i, f'{cost(w,b)}, {w.numpy()}, {b.numpy()}')"
      ],
      "execution_count": 1,
      "outputs": [
        {
          "output_type": "stream",
          "text": [
            "0 28.054120362994606, [7.5236665], [78.22530992]\n",
            "10 2.953237685693459, [2.57896799], [77.42489044]\n",
            "20 2.944746117393035, [2.55017427], [77.50706695]\n",
            "30 2.938137110089422, [2.53672244], [77.58734171]\n",
            "40 2.9321949989754503, [2.52396726], [77.66345919]\n",
            "50 2.926855974201491, [2.5118766], [77.73561108]\n",
            "60 2.92206165996583, [2.50041923], [77.80398375]\n",
            "70 2.917758782284167, [2.48956489], [77.86875779]\n",
            "80 2.913898830192198, [2.47928433], [77.93010778]\n",
            "90 2.9104377175036573, [2.46954934], [77.98820205]\n",
            "100 2.9073354507032354, [2.46033278], [78.04320254]\n",
            "110 2.9045558072120574, [2.45160858], [78.09526481]\n",
            "120 2.90206602712108, [2.44335177], [78.14453796]\n",
            "130 2.899836520532448, [2.43553841], [78.19116473]\n",
            "140 2.8978405918659305, [2.42814564], [78.2352816]\n",
            "150 2.8960541818569108, [2.42115164], [78.27701883]\n",
            "160 2.894455627475077, [2.41453557], [78.31650069]\n",
            "170 2.893025439609052, [2.4082776], [78.35384559]\n",
            "180 2.8917460980738765, [2.40235884], [78.38916624]\n",
            "190 2.890601863288816, [2.39676131], [78.42256986]\n"
          ],
          "name": "stdout"
        }
      ]
    },
    {
      "cell_type": "code",
      "metadata": {
        "id": "XBx-oyHlH5zX"
      },
      "source": [
        ""
      ],
      "execution_count": null,
      "outputs": []
    }
  ]
}
